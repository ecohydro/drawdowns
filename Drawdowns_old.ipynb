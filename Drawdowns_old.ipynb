{
 "cells": [
  {
   "cell_type": "code",
   "execution_count": null,
   "metadata": {},
   "outputs": [],
   "source": [
    "import numpy as np\n",
    "import pandas as pd\n",
    "import matplotlib.pyplot as plot\n",
    "from drawdowns import find_drawdowns\n",
    "from drawdowns import update_start_end\n",
    "# from drawdowns import update_start_end"
   ]
  },
  {
   "cell_type": "markdown",
   "metadata": {},
   "source": [
    "### Plotting function\n",
    "\n",
    "This function makes something that looks pretty close to the \"sketch\""
   ]
  },
  {
   "cell_type": "code",
   "execution_count": null,
   "metadata": {},
   "outputs": [],
   "source": [
    "def plot_ups_and_downs(\n",
    "        data, min_loc=600, max_loc=700, \n",
    "        drawdowns=None, threshold=0,\n",
    "        show_up_locs=True, show_down_locs=True, offset=10):\n",
    "    data = data[min_loc:max_loc]\n",
    "    slope = np.diff(data)\n",
    "    rev = np.diff((slope > 0).astype(int))\n",
    "    down_locs,  = np.where(rev < 0)\n",
    "    up_locs,  = np.where(rev > 0)\n",
    "    up_vals = data[up_locs + 1]\n",
    "    down_vals = data[down_locs + 1]\n",
    "    valid = pd.DataFrame()\n",
    "    if not drawdowns is None:\n",
    "        valid = drawdowns[(drawdowns['start_loc']>=min_loc) \n",
    "                        & (drawdowns['end_loc']<=max_loc)\n",
    "                        & (drawdowns['magnitude']>=threshold)]\n",
    "    if len(valid) > 0:\n",
    "        show_drawdowns = True\n",
    "    else:\n",
    "        show_drawdowns = False \n",
    "    plot.plot(data)\n",
    "    \n",
    "    # plot.plot(down_locs,down_vals,'r')\n",
    "    if show_down_locs:\n",
    "        for loc, val in zip(down_locs, down_vals):\n",
    "            plot.annotate(\"\",xy=(loc+1,val), xytext=(loc+1,val+offset),\n",
    "                        arrowprops=dict(arrowstyle=\"->\",color=\"red\"))\n",
    "    if show_up_locs:\n",
    "        for loc, val in zip(up_locs, up_vals):\n",
    "            plot.annotate(\"\",xy=(loc+1,val), xytext=(loc+1,val-offset),\n",
    "                         arrowprops=dict(arrowstyle=\"->\",color=\"green\"))\n",
    "    if show_drawdowns:\n",
    "        for index, row in valid.iterrows():\n",
    "            x = [row['start_loc']-min_loc,\n",
    "                 row['start_loc']-min_loc+row['duration']\n",
    "                ]\n",
    "            y = [row['peak_val']+offset, row['peak_val']+offset]\n",
    "            plot.plot(x,y,'k')\n",
    "            plot.plot(x,y,'yellow',linewidth=7,alpha=0.5)\n",
    "            vx1 = [row['start_loc']-min_loc,\n",
    "                   row['start_loc']-min_loc]\n",
    "            vy1 = [row['peak_val']+offset,\n",
    "                   row['start_val']]\n",
    "            plot.plot(vx1,vy1,'k--', linewidth=0.5)\n",
    "            vx2 = [row['end_loc']-min_loc,\n",
    "                  row['end_loc']-min_loc]\n",
    "            vy2 = [row['peak_val']+offset,\n",
    "                   row['end_val']]\n",
    "            plot.plot(vx2,vy2,'k--', linewidth=0.5)\n",
    "            xt = row['start_loc']-min_loc+row['duration']/2\n",
    "            yt = row['peak_val']+offset*1.1\n",
    "            plot.text(xt,yt,\"{m}\".format(m=int(row['magnitude'])))\n",
    "    plot.ylim(min(data)-1.2*offset,max(data)+1.4*offset)\n",
    "\n",
    "\n",
    "def cum_dist(data):\n",
    "    x = np.sort(data)\n",
    "    y = np.arange(len(data))/float(len(data))\n",
    "    return x, y\n",
    "\n"
   ]
  },
  {
   "cell_type": "markdown",
   "metadata": {},
   "source": [
    "# Test with the Boulder data"
   ]
  },
  {
   "cell_type": "code",
   "execution_count": null,
   "metadata": {},
   "outputs": [],
   "source": [
    "from Drawdown import Drawdown\n",
    "drawdown = Drawdown(filename='BoulderS.csv')\n",
    "drawdown.make_drawdowns()\n",
    "df = drawdown.df\n",
    "df = df[df['magnitude']>0]\n",
    "drawdown.plot_ups_and_downs()"
   ]
  },
  {
   "cell_type": "markdown",
   "metadata": {},
   "source": [
    "## Run the Calhoun Data"
   ]
  },
  {
   "cell_type": "code",
   "execution_count": null,
   "metadata": {},
   "outputs": [],
   "source": [
    "dir(drawdown)"
   ]
  },
  {
   "cell_type": "code",
   "execution_count": null,
   "metadata": {},
   "outputs": [],
   "source": [
    "file = 'calhounS.csv'\n",
    "name, ext = file.split('.')\n",
    "name"
   ]
  },
  {
   "cell_type": "code",
   "execution_count": null,
   "metadata": {},
   "outputs": [],
   "source": [
    "data = np.array(pd.read_csv(file)).T.squeeze()\n",
    "drawdowns = find_drawdowns(data)\n",
    "df = pd.DataFrame(drawdowns)\n",
    "df = df[df['magnitude']>0]"
   ]
  },
  {
   "cell_type": "markdown",
   "metadata": {},
   "source": [
    "### Generate some summary data across the drawdowns"
   ]
  },
  {
   "cell_type": "code",
   "execution_count": null,
   "metadata": {},
   "outputs": [],
   "source": [
    "df[['magnitude','duration','filling','draining']].describe()"
   ]
  },
  {
   "cell_type": "markdown",
   "metadata": {},
   "source": [
    "### Make some distribution plots"
   ]
  },
  {
   "cell_type": "code",
   "execution_count": null,
   "metadata": {},
   "outputs": [],
   "source": [
    "y,x = np.histogram(np.log10(df['magnitude']),bins=15)\n",
    "y = y/np.sum(y)\n",
    "plot.bar(x[0:-1],y)\n",
    "plot.title('Distribution of Drawdown Size, d')\n",
    "plot.xlabel('d (cm)')\n",
    "plot.ylabel('p(d)')\n",
    "plot.xticks(ticks=[-2, -1, 0, 1, 2],labels=['0.01','0.10','1','10','100'])"
   ]
  },
  {
   "cell_type": "code",
   "execution_count": null,
   "metadata": {},
   "outputs": [],
   "source": [
    "x, y = cum_dist(df['magnitude'])\n",
    "plot.plot(x,y)\n",
    "plot.xlabel('Drawdown Size, d (cm)')\n",
    "plot.ylabel('Cumulative Distribution, F(d)')\n",
    "plot.title('CDF of Drawdown Sizes, F(d)')"
   ]
  },
  {
   "cell_type": "markdown",
   "metadata": {},
   "source": [
    "### Make a Drawdown Plot for the Calhoun data just for fun..."
   ]
  },
  {
   "cell_type": "code",
   "execution_count": null,
   "metadata": {},
   "outputs": [],
   "source": [
    "threshold=0 # Minimum size of drawdowns to label\n",
    "min_loc=600  # First value of the dataseries to plot\n",
    "max_loc=700  # Last value of the dataseries to plot\n",
    "\n",
    "plot_ups_and_downs(\n",
    "    data,drawdowns=df,\n",
    "    threshold=threshold,\n",
    "    show_up_locs=False,show_down_locs=False,\n",
    "    min_loc=min_loc, max_loc=max_loc,\n",
    "    offset=20)"
   ]
  },
  {
   "cell_type": "code",
   "execution_count": null,
   "metadata": {},
   "outputs": [],
   "source": []
  }
 ],
 "metadata": {
  "kernelspec": {
   "display_name": "drawdowns",
   "language": "python",
   "name": "drawdowns"
  },
  "language_info": {
   "codemirror_mode": {
    "name": "ipython",
    "version": 3
   },
   "file_extension": ".py",
   "mimetype": "text/x-python",
   "name": "python",
   "nbconvert_exporter": "python",
   "pygments_lexer": "ipython3",
   "version": "3.10.6"
  }
 },
 "nbformat": 4,
 "nbformat_minor": 2
}
