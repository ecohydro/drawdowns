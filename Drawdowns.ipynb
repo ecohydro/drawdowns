{
 "cells": [
  {
   "cell_type": "code",
   "execution_count": 1,
   "metadata": {},
   "outputs": [],
   "source": [
    "import numpy as np\n",
    "import pandas as pd\n",
    "import matplotlib.pyplot as plot"
   ]
  },
  {
   "cell_type": "code",
   "execution_count": 2,
   "metadata": {},
   "outputs": [],
   "source": [
    "file = 'calhounS.csv'"
   ]
  },
  {
   "cell_type": "code",
   "execution_count": 126,
   "metadata": {},
   "outputs": [
    {
     "name": "stdout",
     "output_type": "stream",
     "text": [
      "There are 1777 total downvals\n",
      "There are 1776 total upvals\n"
     ]
    }
   ],
   "source": [
    "from drawdowns import find_drawdowns\n",
    "data = np.array(pd.read_csv(file)).T.squeeze()\n",
    "drawdowns = find_drawdowns(data)\n",
    "df = pd.DataFrame(drawdowns)\n",
    "df = df[df['magnitude']>0]"
   ]
  },
  {
   "cell_type": "code",
   "execution_count": 133,
   "metadata": {},
   "outputs": [
    {
     "data": {
      "text/html": [
       "<div>\n",
       "<style scoped>\n",
       "    .dataframe tbody tr th:only-of-type {\n",
       "        vertical-align: middle;\n",
       "    }\n",
       "\n",
       "    .dataframe tbody tr th {\n",
       "        vertical-align: top;\n",
       "    }\n",
       "\n",
       "    .dataframe thead th {\n",
       "        text-align: right;\n",
       "    }\n",
       "</style>\n",
       "<table border=\"1\" class=\"dataframe\">\n",
       "  <thead>\n",
       "    <tr style=\"text-align: right;\">\n",
       "      <th></th>\n",
       "      <th>magnitude</th>\n",
       "      <th>duration</th>\n",
       "      <th>filling</th>\n",
       "      <th>draining</th>\n",
       "    </tr>\n",
       "  </thead>\n",
       "  <tbody>\n",
       "    <tr>\n",
       "      <td>count</td>\n",
       "      <td>1773.000000</td>\n",
       "      <td>1773.000000</td>\n",
       "      <td>1773.000000</td>\n",
       "      <td>1773.000000</td>\n",
       "    </tr>\n",
       "    <tr>\n",
       "      <td>mean</td>\n",
       "      <td>18.571202</td>\n",
       "      <td>252.412296</td>\n",
       "      <td>174.307041</td>\n",
       "      <td>91.519907</td>\n",
       "    </tr>\n",
       "    <tr>\n",
       "      <td>std</td>\n",
       "      <td>71.719311</td>\n",
       "      <td>739.536977</td>\n",
       "      <td>312.763298</td>\n",
       "      <td>199.647917</td>\n",
       "    </tr>\n",
       "    <tr>\n",
       "      <td>min</td>\n",
       "      <td>0.012257</td>\n",
       "      <td>2.000000</td>\n",
       "      <td>0.012257</td>\n",
       "      <td>0.013539</td>\n",
       "    </tr>\n",
       "    <tr>\n",
       "      <td>25%</td>\n",
       "      <td>1.637209</td>\n",
       "      <td>10.000000</td>\n",
       "      <td>5.552876</td>\n",
       "      <td>2.807076</td>\n",
       "    </tr>\n",
       "    <tr>\n",
       "      <td>50%</td>\n",
       "      <td>4.435046</td>\n",
       "      <td>58.000000</td>\n",
       "      <td>32.329070</td>\n",
       "      <td>8.134790</td>\n",
       "    </tr>\n",
       "    <tr>\n",
       "      <td>75%</td>\n",
       "      <td>11.127234</td>\n",
       "      <td>135.000000</td>\n",
       "      <td>225.840608</td>\n",
       "      <td>65.023501</td>\n",
       "    </tr>\n",
       "    <tr>\n",
       "      <td>max</td>\n",
       "      <td>1337.611086</td>\n",
       "      <td>11038.000000</td>\n",
       "      <td>1999.801403</td>\n",
       "      <td>1337.611086</td>\n",
       "    </tr>\n",
       "  </tbody>\n",
       "</table>\n",
       "</div>"
      ],
      "text/plain": [
       "         magnitude      duration      filling     draining\n",
       "count  1773.000000   1773.000000  1773.000000  1773.000000\n",
       "mean     18.571202    252.412296   174.307041    91.519907\n",
       "std      71.719311    739.536977   312.763298   199.647917\n",
       "min       0.012257      2.000000     0.012257     0.013539\n",
       "25%       1.637209     10.000000     5.552876     2.807076\n",
       "50%       4.435046     58.000000    32.329070     8.134790\n",
       "75%      11.127234    135.000000   225.840608    65.023501\n",
       "max    1337.611086  11038.000000  1999.801403  1337.611086"
      ]
     },
     "execution_count": 133,
     "metadata": {},
     "output_type": "execute_result"
    }
   ],
   "source": [
    "df[['magnitude','duration','filling','draining']].describe()"
   ]
  },
  {
   "cell_type": "code",
   "execution_count": 142,
   "metadata": {},
   "outputs": [],
   "source": [
    "def plot_ups_and_downs(\n",
    "        data, min_loc=600, max_loc=700, \n",
    "        drawdowns=None,\n",
    "        show_up_locs=True, show_down_locs=True, offset=10):\n",
    "    data = data[min_loc:max_loc]\n",
    "    slope = np.diff(data)\n",
    "    rev = np.diff((slope > 0).astype(int))\n",
    "    down_locs,  = np.where(rev < 0)\n",
    "    up_locs,  = np.where(rev > 0)\n",
    "    up_vals = data[up_locs + 1]\n",
    "    down_vals = data[down_locs + 1]\n",
    "    valid = pd.DataFrame()\n",
    "    if not drawdowns is None:\n",
    "        valid = drawdowns[(drawdowns['start_loc']>min_loc) \n",
    "                        & (drawdowns['end_loc']<max_loc)]\n",
    "    if len(valid) > 0:\n",
    "        show_drawdowns = True\n",
    "    else:\n",
    "        show_drawdowns = False \n",
    "    plot.plot(data)\n",
    "    \n",
    "    # plot.plot(down_locs,down_vals,'r')\n",
    "    if show_down_locs:\n",
    "        for loc, val in zip(down_locs, down_vals):\n",
    "            plot.annotate(\"\",xy=(loc+1,val), xytext=(loc+1,val+offset),\n",
    "                        arrowprops=dict(arrowstyle=\"->\",color=\"red\"))\n",
    "    if show_up_locs:\n",
    "        for loc, val in zip(up_locs, up_vals):\n",
    "            plot.annotate(\"\",xy=(loc+1,val), xytext=(loc+1,val-offset),\n",
    "                         arrowprops=dict(arrowstyle=\"->\",color=\"green\"))\n",
    "    if show_drawdowns:\n",
    "        for index, row in valid.iterrows():\n",
    "            x = [row['start_loc']-min_loc,\n",
    "                 row['start_loc']-min_loc+row['duration']\n",
    "                ]\n",
    "            y = [row['peak_val']+offset, row['peak_val']+offset]\n",
    "            plot.plot(x,y,'k')\n",
    "            plot.plot(x,y,'yellow',linewidth=7,alpha=0.5)\n",
    "            vx1 = [row['start_loc']-min_loc,\n",
    "                   row['start_loc']-min_loc]\n",
    "            vy1 = [row['peak_val']+offset,\n",
    "                   row['peak_val']-row['magnitude']]\n",
    "            plot.plot(vx1,vy1,'k--', linewidth=0.5)\n",
    "            vx2 = [row['end_loc']-min_loc,\n",
    "                  row['end_loc']-min_loc]\n",
    "            vy2 = [row['peak_val']+offset,\n",
    "                   row['peak_val']-row['magnitude']]\n",
    "            plot.plot(vx2,vy2,'k--', linewidth=0.5)\n",
    "            xt = row['peak_loc']-min_loc+row['duration']/2\n",
    "            yt = row['peak_val']+offset*1.1\n",
    "            plot.text(xt,yt,\"{m}\".format(m=int(row['magnitude'])))\n",
    "    plot.ylim(min(data)-1.2*offset,max(data)+1.4*offset)\n",
    "\n",
    "\n",
    "def cum_dist(data):\n",
    "    x = np.sort(data)\n",
    "    y = np.arange(len(data))/float(len(data))\n",
    "    return x, y\n"
   ]
  },
  {
   "cell_type": "code",
   "execution_count": 124,
   "metadata": {},
   "outputs": [
    {
     "data": {
      "text/plain": [
       "Text(0.5, 1.0, 'CDF of Drawdown Sizes, F(d)')"
      ]
     },
     "execution_count": 124,
     "metadata": {},
     "output_type": "execute_result"
    },
    {
     "data": {
      "image/png": "[encoded data removed]",
      "text/plain": [
       "<Figure size 432x288 with 1 Axes>"
      ]
     },
     "metadata": {
      "needs_background": "light"
     },
     "output_type": "display_data"
    }
   ],
   "source": [
    "x, y = cum_dist(df['magnitude'])\n",
    "plot.plot(x,y)\n",
    "plot.xlabel('Drawdown Size, d (cm)')\n",
    "plot.ylabel('Cumulative Distribution, F(d)')\n",
    "plot.title('CDF of Drawdown Sizes, F(d)')"
   ]
  },
  {
   "cell_type": "code",
   "execution_count": 134,
   "metadata": {},
   "outputs": [
    {
     "data": {
      "text/plain": [
       "([<matplotlib.axis.XTick at 0x7f99704bf5d0>,\n",
       "  <matplotlib.axis.XTick at 0x7f9980b0b550>,\n",
       "  <matplotlib.axis.XTick at 0x7f9980b0b610>,\n",
       "  <matplotlib.axis.XTick at 0x7f99a2c84290>,\n",
       "  <matplotlib.axis.XTick at 0x7f99806ecd90>],\n",
       " <a list of 5 Text xticklabel objects>)"
      ]
     },
     "execution_count": 134,
     "metadata": {},
     "output_type": "execute_result"
    },
    {
     "data": {
      "image/png": "[encoded data removed]",
      "text/plain": [
       "<Figure size 432x288 with 1 Axes>"
      ]
     },
     "metadata": {
      "needs_background": "light"
     },
     "output_type": "display_data"
    }
   ],
   "source": [
    "y,x = np.histogram(np.log10(df['magnitude']),bins=15)\n",
    "y = y/np.sum(y)\n",
    "plot.bar(x[0:-1],y)\n",
    "plot.title('Distribution of Drawdown Size, d')\n",
    "plot.xlabel('d (cm)')\n",
    "plot.ylabel('p(d)')\n",
    "plot.xticks(ticks=[-2, -1, 0, 1, 2],labels=['0.01','0.10','1','10','100'])"
   ]
  },
  {
   "cell_type": "code",
   "execution_count": 143,
   "metadata": {},
   "outputs": [
    {
     "data": {
      "image/png": "[encoded data removed]",
      "text/plain": [
       "<Figure size 432x288 with 1 Axes>"
      ]
     },
     "metadata": {
      "needs_background": "light"
     },
     "output_type": "display_data"
    }
   ],
   "source": [
    "plot_ups_and_downs(data,drawdowns=df,min_loc=600, max_loc=700, offset=20)"
   ]
  },
  {
   "cell_type": "code",
   "execution_count": null,
   "metadata": {},
   "outputs": [],
   "source": []
  }
 ],
 "metadata": {
  "kernelspec": {
   "display_name": "Python 3.7.4 64-bit ('base': conda)",
   "language": "python",
   "name": "python37464bitbaseconda2d973566d9e24c8d920f6de2941817ce"
  },
  "language_info": {
   "codemirror_mode": {
    "name": "ipython",
    "version": 3
   },
   "file_extension": ".py",
   "mimetype": "text/x-python",
   "name": "python",
   "nbconvert_exporter": "python",
   "pygments_lexer": "ipython3",
   "version": "3.7.4"
  }
 },
 "nbformat": 4,
 "nbformat_minor": 2
}
