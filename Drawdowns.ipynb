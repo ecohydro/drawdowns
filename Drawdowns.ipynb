{
 "cells": [
  {
   "cell_type": "code",
   "execution_count": 1,
   "metadata": {},
   "outputs": [],
   "source": [
    "import numpy as np\n",
    "import pandas as pd\n",
    "import matplotlib.pyplot as plot\n",
    "from drawdowns import find_drawdowns"
   ]
  },
  {
   "cell_type": "markdown",
   "metadata": {},
   "source": [
    "### Plotting function\n",
    "\n",
    "This function makes something that looks pretty close to the \"sketch\""
   ]
  },
  {
   "cell_type": "code",
   "execution_count": 2,
   "metadata": {},
   "outputs": [],
   "source": [
    "def plot_ups_and_downs(\n",
    "        data, min_loc=600, max_loc=700, \n",
    "        drawdowns=None,\n",
    "        show_up_locs=True, show_down_locs=True, offset=10):\n",
    "    data = data[min_loc:max_loc]\n",
    "    slope = np.diff(data)\n",
    "    rev = np.diff((slope > 0).astype(int))\n",
    "    down_locs,  = np.where(rev < 0)\n",
    "    up_locs,  = np.where(rev > 0)\n",
    "    up_vals = data[up_locs + 1]\n",
    "    down_vals = data[down_locs + 1]\n",
    "    valid = pd.DataFrame()\n",
    "    if not drawdowns is None:\n",
    "        valid = drawdowns[(drawdowns['start_loc']>=min_loc) \n",
    "                        & (drawdowns['end_loc']<=max_loc)]\n",
    "    if len(valid) > 0:\n",
    "        show_drawdowns = True\n",
    "    else:\n",
    "        show_drawdowns = False \n",
    "    plot.plot(data)\n",
    "    \n",
    "    # plot.plot(down_locs,down_vals,'r')\n",
    "    if show_down_locs:\n",
    "        for loc, val in zip(down_locs, down_vals):\n",
    "            plot.annotate(\"\",xy=(loc+1,val), xytext=(loc+1,val+offset),\n",
    "                        arrowprops=dict(arrowstyle=\"->\",color=\"red\"))\n",
    "    if show_up_locs:\n",
    "        for loc, val in zip(up_locs, up_vals):\n",
    "            plot.annotate(\"\",xy=(loc+1,val), xytext=(loc+1,val-offset),\n",
    "                         arrowprops=dict(arrowstyle=\"->\",color=\"green\"))\n",
    "    if show_drawdowns:\n",
    "        for index, row in valid.iterrows():\n",
    "            x = [row['start_loc']-min_loc,\n",
    "                 row['start_loc']-min_loc+row['duration']\n",
    "                ]\n",
    "            y = [row['peak_val']+offset, row['peak_val']+offset]\n",
    "            plot.plot(x,y,'k')\n",
    "            plot.plot(x,y,'yellow',linewidth=7,alpha=0.5)\n",
    "            vx1 = [row['start_loc']-min_loc,\n",
    "                   row['start_loc']-min_loc]\n",
    "            vy1 = [row['peak_val']+offset,\n",
    "                   row['peak_val']-row['magnitude']]\n",
    "            plot.plot(vx1,vy1,'k--', linewidth=0.5)\n",
    "            vx2 = [row['end_loc']-min_loc,\n",
    "                  row['end_loc']-min_loc]\n",
    "            vy2 = [row['peak_val']+offset,\n",
    "                   row['peak_val']-row['magnitude']]\n",
    "            plot.plot(vx2,vy2,'k--', linewidth=0.5)\n",
    "            xt = row['start_loc']-min_loc+row['duration']/2\n",
    "            yt = row['peak_val']+offset*1.1\n",
    "            plot.text(xt,yt,\"{m}\".format(m=int(row['magnitude'])))\n",
    "    plot.ylim(min(data)-1.2*offset,max(data)+1.4*offset)\n",
    "\n",
    "\n",
    "def cum_dist(data):\n",
    "    x = np.sort(data)\n",
    "    y = np.arange(len(data))/float(len(data))\n",
    "    return x, y\n",
    "\n"
   ]
  },
  {
   "cell_type": "markdown",
   "metadata": {},
   "source": [
    "# Test with the toy data"
   ]
  },
  {
   "cell_type": "code",
   "execution_count": 3,
   "metadata": {},
   "outputs": [
    {
     "name": "stdout",
     "output_type": "stream",
     "text": [
      "There are 6 total downvals\n",
      "There are 5 total upvals\n"
     ]
    },
    {
     "data": {
      "image/png": "[encoded data removed]",
      "text/plain": [
       "<Figure size 432x288 with 1 Axes>"
      ]
     },
     "metadata": {
      "needs_background": "light"
     },
     "output_type": "display_data"
    }
   ],
   "source": [
    "file = 'toy_drawdown2.csv'\n",
    "data = np.array(pd.read_csv(file)).T.squeeze()\n",
    "drawdowns = find_drawdowns(data)\n",
    "df = pd.DataFrame(drawdowns)\n",
    "df = df[df['magnitude']>0]\n",
    "plot_ups_and_downs(data,drawdowns=df,min_loc=0, max_loc=len(data), offset=10)"
   ]
  },
  {
   "cell_type": "markdown",
   "metadata": {},
   "source": [
    "## Run the Calhoun Data"
   ]
  },
  {
   "cell_type": "code",
   "execution_count": 4,
   "metadata": {},
   "outputs": [],
   "source": [
    "file = 'calhounS.csv'"
   ]
  },
  {
   "cell_type": "code",
   "execution_count": 5,
   "metadata": {},
   "outputs": [
    {
     "name": "stdout",
     "output_type": "stream",
     "text": [
      "There are 1777 total downvals\n",
      "There are 1776 total upvals\n"
     ]
    }
   ],
   "source": [
    "data = np.array(pd.read_csv(file)).T.squeeze()\n",
    "drawdowns = find_drawdowns(data)\n",
    "df = pd.DataFrame(drawdowns)\n",
    "df = df[df['magnitude']>0]"
   ]
  },
  {
   "cell_type": "markdown",
   "metadata": {},
   "source": [
    "### Generate some summary data across the drawdowns"
   ]
  },
  {
   "cell_type": "code",
   "execution_count": 6,
   "metadata": {},
   "outputs": [
    {
     "data": {
      "text/html": [
       "<div>\n",
       "<style scoped>\n",
       "    .dataframe tbody tr th:only-of-type {\n",
       "        vertical-align: middle;\n",
       "    }\n",
       "\n",
       "    .dataframe tbody tr th {\n",
       "        vertical-align: top;\n",
       "    }\n",
       "\n",
       "    .dataframe thead th {\n",
       "        text-align: right;\n",
       "    }\n",
       "</style>\n",
       "<table border=\"1\" class=\"dataframe\">\n",
       "  <thead>\n",
       "    <tr style=\"text-align: right;\">\n",
       "      <th></th>\n",
       "      <th>magnitude</th>\n",
       "      <th>duration</th>\n",
       "      <th>filling</th>\n",
       "      <th>draining</th>\n",
       "    </tr>\n",
       "  </thead>\n",
       "  <tbody>\n",
       "    <tr>\n",
       "      <td>count</td>\n",
       "      <td>1774.000000</td>\n",
       "      <td>1774.000000</td>\n",
       "      <td>1774.000000</td>\n",
       "      <td>1774.000000</td>\n",
       "    </tr>\n",
       "    <tr>\n",
       "      <td>mean</td>\n",
       "      <td>18.561980</td>\n",
       "      <td>252.316798</td>\n",
       "      <td>174.316023</td>\n",
       "      <td>91.469564</td>\n",
       "    </tr>\n",
       "    <tr>\n",
       "      <td>std</td>\n",
       "      <td>71.700135</td>\n",
       "      <td>739.339333</td>\n",
       "      <td>312.675313</td>\n",
       "      <td>199.602869</td>\n",
       "    </tr>\n",
       "    <tr>\n",
       "      <td>min</td>\n",
       "      <td>0.012257</td>\n",
       "      <td>2.000000</td>\n",
       "      <td>0.012257</td>\n",
       "      <td>0.013539</td>\n",
       "    </tr>\n",
       "    <tr>\n",
       "      <td>25%</td>\n",
       "      <td>1.637223</td>\n",
       "      <td>10.000000</td>\n",
       "      <td>5.553772</td>\n",
       "      <td>2.800568</td>\n",
       "    </tr>\n",
       "    <tr>\n",
       "      <td>50%</td>\n",
       "      <td>4.432231</td>\n",
       "      <td>58.000000</td>\n",
       "      <td>32.330068</td>\n",
       "      <td>8.132409</td>\n",
       "    </tr>\n",
       "    <tr>\n",
       "      <td>75%</td>\n",
       "      <td>11.123853</td>\n",
       "      <td>134.750000</td>\n",
       "      <td>225.705529</td>\n",
       "      <td>64.980185</td>\n",
       "    </tr>\n",
       "    <tr>\n",
       "      <td>max</td>\n",
       "      <td>1337.611086</td>\n",
       "      <td>11038.000000</td>\n",
       "      <td>1999.801403</td>\n",
       "      <td>1337.611086</td>\n",
       "    </tr>\n",
       "  </tbody>\n",
       "</table>\n",
       "</div>"
      ],
      "text/plain": [
       "         magnitude      duration      filling     draining\n",
       "count  1774.000000   1774.000000  1774.000000  1774.000000\n",
       "mean     18.561980    252.316798   174.316023    91.469564\n",
       "std      71.700135    739.339333   312.675313   199.602869\n",
       "min       0.012257      2.000000     0.012257     0.013539\n",
       "25%       1.637223     10.000000     5.553772     2.800568\n",
       "50%       4.432231     58.000000    32.330068     8.132409\n",
       "75%      11.123853    134.750000   225.705529    64.980185\n",
       "max    1337.611086  11038.000000  1999.801403  1337.611086"
      ]
     },
     "execution_count": 6,
     "metadata": {},
     "output_type": "execute_result"
    }
   ],
   "source": [
    "df[['magnitude','duration','filling','draining']].describe()"
   ]
  },
  {
   "cell_type": "markdown",
   "metadata": {},
   "source": [
    "### Make some distribution plots"
   ]
  },
  {
   "cell_type": "code",
   "execution_count": 7,
   "metadata": {},
   "outputs": [
    {
     "data": {
      "text/plain": [
       "([<matplotlib.axis.XTick at 0x7f7b08261ed0>,\n",
       "  <matplotlib.axis.XTick at 0x7f7b08261510>,\n",
       "  <matplotlib.axis.XTick at 0x7f7b0825bfd0>,\n",
       "  <matplotlib.axis.XTick at 0x7f7b3a88d390>,\n",
       "  <matplotlib.axis.XTick at 0x7f7b3a88d8d0>],\n",
       " <a list of 5 Text xticklabel objects>)"
      ]
     },
     "execution_count": 7,
     "metadata": {},
     "output_type": "execute_result"
    },
    {
     "data": {
      "image/png": "[encoded data removed]",
      "text/plain": [
       "<Figure size 432x288 with 1 Axes>"
      ]
     },
     "metadata": {
      "needs_background": "light"
     },
     "output_type": "display_data"
    }
   ],
   "source": [
    "y,x = np.histogram(np.log10(df['magnitude']),bins=15)\n",
    "y = y/np.sum(y)\n",
    "plot.bar(x[0:-1],y)\n",
    "plot.title('Distribution of Drawdown Size, d')\n",
    "plot.xlabel('d (cm)')\n",
    "plot.ylabel('p(d)')\n",
    "plot.xticks(ticks=[-2, -1, 0, 1, 2],labels=['0.01','0.10','1','10','100'])"
   ]
  },
  {
   "cell_type": "code",
   "execution_count": 8,
   "metadata": {},
   "outputs": [
    {
     "data": {
      "text/plain": [
       "Text(0.5, 1.0, 'CDF of Drawdown Sizes, F(d)')"
      ]
     },
     "execution_count": 8,
     "metadata": {},
     "output_type": "execute_result"
    },
    {
     "data": {
      "image/png": "[encoded data removed]",
      "text/plain": [
       "<Figure size 432x288 with 1 Axes>"
      ]
     },
     "metadata": {
      "needs_background": "light"
     },
     "output_type": "display_data"
    }
   ],
   "source": [
    "x, y = cum_dist(df['magnitude'])\n",
    "plot.plot(x,y)\n",
    "plot.xlabel('Drawdown Size, d (cm)')\n",
    "plot.ylabel('Cumulative Distribution, F(d)')\n",
    "plot.title('CDF of Drawdown Sizes, F(d)')"
   ]
  },
  {
   "cell_type": "markdown",
   "metadata": {},
   "source": [
    "### Make a Drawdown Plot for the Calhoun data just for fun..."
   ]
  },
  {
   "cell_type": "code",
   "execution_count": 9,
   "metadata": {},
   "outputs": [
    {
     "data": {
      "image/png": "[encoded data removed]",
      "text/plain": [
       "<Figure size 432x288 with 1 Axes>"
      ]
     },
     "metadata": {
      "needs_background": "light"
     },
     "output_type": "display_data"
    }
   ],
   "source": [
    "plot_ups_and_downs(data,drawdowns=df,min_loc=600, max_loc=700, offset=20)"
   ]
  },
  {
   "cell_type": "code",
   "execution_count": null,
   "metadata": {},
   "outputs": [],
   "source": []
  }
 ],
 "metadata": {
  "kernelspec": {
   "display_name": "Python 3.7.4 64-bit ('base': conda)",
   "language": "python",
   "name": "python37464bitbaseconda2d973566d9e24c8d920f6de2941817ce"
  },
  "language_info": {
   "codemirror_mode": {
    "name": "ipython",
    "version": 3
   },
   "file_extension": ".py",
   "mimetype": "text/x-python",
   "name": "python",
   "nbconvert_exporter": "python",
   "pygments_lexer": "ipython3",
   "version": "3.7.4"
  }
 },
 "nbformat": 4,
 "nbformat_minor": 2
}
